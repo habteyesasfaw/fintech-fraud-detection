{
 "cells": [
  {
   "cell_type": "markdown",
   "metadata": {},
   "source": [
    "# Import necessary packages"
   ]
  },
  {
   "cell_type": "code",
   "execution_count": 2,
   "metadata": {},
   "outputs": [],
   "source": [
    "import pandas as pd\n",
    "import sys\n",
    "import os\n",
    "sys.path.append(os.path.abspath(os.path.join(os.getcwd(), '../scripts')))\n",
    "from preprocessing import handle_missing_values, data_cleaning, merge_datasets, eda, feature_engineering, normalize_and_scale, encode_categorical, save_processed_data,ip_to_int\n",
    "\n",
    "import  preprocessing as prep\n"
   ]
  },
  {
   "cell_type": "markdown",
   "metadata": {},
   "source": [
    "# Load the data\n"
   ]
  },
  {
   "cell_type": "code",
   "execution_count": 3,
   "metadata": {},
   "outputs": [],
   "source": [
    "fraud_data = pd.read_csv('../data/raw/Fraud_Data.csv')\n",
    "ip_data = pd.read_csv('../data/raw/IpAddress_to_Country.csv')\n"
   ]
  },
  {
   "cell_type": "code",
   "execution_count": 5,
   "metadata": {},
   "outputs": [
    {
     "data": {
      "text/html": [
       "<div>\n",
       "<style scoped>\n",
       "    .dataframe tbody tr th:only-of-type {\n",
       "        vertical-align: middle;\n",
       "    }\n",
       "\n",
       "    .dataframe tbody tr th {\n",
       "        vertical-align: top;\n",
       "    }\n",
       "\n",
       "    .dataframe thead th {\n",
       "        text-align: right;\n",
       "    }\n",
       "</style>\n",
       "<table border=\"1\" class=\"dataframe\">\n",
       "  <thead>\n",
       "    <tr style=\"text-align: right;\">\n",
       "      <th></th>\n",
       "      <th>lower_bound_ip_address</th>\n",
       "      <th>upper_bound_ip_address</th>\n",
       "      <th>country</th>\n",
       "    </tr>\n",
       "  </thead>\n",
       "  <tbody>\n",
       "    <tr>\n",
       "      <th>0</th>\n",
       "      <td>16777216.0</td>\n",
       "      <td>16777471</td>\n",
       "      <td>Australia</td>\n",
       "    </tr>\n",
       "    <tr>\n",
       "      <th>1</th>\n",
       "      <td>16777472.0</td>\n",
       "      <td>16777727</td>\n",
       "      <td>China</td>\n",
       "    </tr>\n",
       "    <tr>\n",
       "      <th>2</th>\n",
       "      <td>16777728.0</td>\n",
       "      <td>16778239</td>\n",
       "      <td>China</td>\n",
       "    </tr>\n",
       "    <tr>\n",
       "      <th>3</th>\n",
       "      <td>16778240.0</td>\n",
       "      <td>16779263</td>\n",
       "      <td>Australia</td>\n",
       "    </tr>\n",
       "    <tr>\n",
       "      <th>4</th>\n",
       "      <td>16779264.0</td>\n",
       "      <td>16781311</td>\n",
       "      <td>China</td>\n",
       "    </tr>\n",
       "  </tbody>\n",
       "</table>\n",
       "</div>"
      ],
      "text/plain": [
       "   lower_bound_ip_address  upper_bound_ip_address    country\n",
       "0              16777216.0                16777471  Australia\n",
       "1              16777472.0                16777727      China\n",
       "2              16777728.0                16778239      China\n",
       "3              16778240.0                16779263  Australia\n",
       "4              16779264.0                16781311      China"
      ]
     },
     "execution_count": 5,
     "metadata": {},
     "output_type": "execute_result"
    }
   ],
   "source": [
    "ip_data.head()"
   ]
  },
  {
   "cell_type": "markdown",
   "metadata": {},
   "source": [
    "# Handle missing values\n"
   ]
  },
  {
   "cell_type": "code",
   "execution_count": 4,
   "metadata": {},
   "outputs": [],
   "source": [
    "fraud_data = prep.handle_missing_values(fraud_data)"
   ]
  },
  {
   "cell_type": "markdown",
   "metadata": {},
   "source": [
    "# Data cleaning\n"
   ]
  },
  {
   "cell_type": "code",
   "execution_count": 5,
   "metadata": {},
   "outputs": [],
   "source": [
    "fraud_data = prep.data_cleaning(fraud_data)"
   ]
  },
  {
   "cell_type": "markdown",
   "metadata": {},
   "source": [
    "# Exploratory Data Analysis\n"
   ]
  },
  {
   "cell_type": "code",
   "execution_count": 6,
   "metadata": {},
   "outputs": [
    {
     "name": "stdout",
     "output_type": "stream",
     "text": [
      "Univariate Analysis:\n",
      "             user_id                    signup_time  \\\n",
      "count  151112.000000                         151112   \n",
      "mean   200171.040970  2015-04-20 00:56:09.511329280   \n",
      "min         2.000000            2015-01-01 00:00:42   \n",
      "25%    100642.500000     2015-02-18 09:52:48.500000   \n",
      "50%    199958.000000            2015-04-19 04:41:30   \n",
      "75%    300054.000000  2015-06-18 14:47:22.750000128   \n",
      "max    400000.000000            2015-08-18 04:40:29   \n",
      "std    115369.285024                            NaN   \n",
      "\n",
      "                       purchase_time  purchase_value            age  \\\n",
      "count                         151112   151112.000000  151112.000000   \n",
      "mean   2015-06-16 02:56:38.759952896       36.935372      33.140704   \n",
      "min              2015-01-01 00:00:44        9.000000      18.000000   \n",
      "25%       2015-04-18 14:41:25.500000       22.000000      27.000000   \n",
      "50%       2015-06-18 13:46:17.500000       35.000000      33.000000   \n",
      "75%       2015-08-17 18:48:31.500000       49.000000      39.000000   \n",
      "max              2015-12-16 02:56:05      154.000000      76.000000   \n",
      "std                              NaN       18.322762       8.617733   \n",
      "\n",
      "         ip_address          class  \n",
      "count  1.511120e+05  151112.000000  \n",
      "mean   2.152145e+09       0.093646  \n",
      "min    5.209350e+04       0.000000  \n",
      "25%    1.085934e+09       0.000000  \n",
      "50%    2.154770e+09       0.000000  \n",
      "75%    3.243258e+09       0.000000  \n",
      "max    4.294850e+09       1.000000  \n",
      "std    1.248497e+09       0.291336  \n"
     ]
    },
    {
     "data": {
      "image/png": "[encoded data removed]",
      "text/plain": [
       "<Figure size 1000x600 with 1 Axes>"
      ]
     },
     "metadata": {},
     "output_type": "display_data"
    },
    {
     "name": "stdout",
     "output_type": "stream",
     "text": [
      "\n",
      "Bivariate Analysis:\n",
      "class           0         1\n",
      "browser                    \n",
      "Chrome   0.901208  0.098792\n",
      "FireFox  0.904835  0.095165\n",
      "IE       0.913225  0.086775\n",
      "Opera    0.910773  0.089227\n",
      "Safari   0.909799  0.090201\n"
     ]
    },
    {
     "data": {
      "image/png": "[encoded data removed]",
      "text/plain": [
       "<Figure size 1000x600 with 1 Axes>"
      ]
     },
     "metadata": {},
     "output_type": "display_data"
    }
   ],
   "source": [
    "prep.eda(fraud_data)"
   ]
  },
  {
   "cell_type": "markdown",
   "metadata": {},
   "source": [
    "# Merge datasets for geolocation analysis\n"
   ]
  },
  {
   "cell_type": "code",
   "execution_count": 7,
   "metadata": {},
   "outputs": [],
   "source": [
    "merged_data = prep.merge_datasets(fraud_data, ip_data)"
   ]
  },
  {
   "cell_type": "code",
   "execution_count": 8,
   "metadata": {},
   "outputs": [
    {
     "data": {
      "text/html": [
       "<div>\n",
       "<style scoped>\n",
       "    .dataframe tbody tr th:only-of-type {\n",
       "        vertical-align: middle;\n",
       "    }\n",
       "\n",
       "    .dataframe tbody tr th {\n",
       "        vertical-align: top;\n",
       "    }\n",
       "\n",
       "    .dataframe thead th {\n",
       "        text-align: right;\n",
       "    }\n",
       "</style>\n",
       "<table border=\"1\" class=\"dataframe\">\n",
       "  <thead>\n",
       "    <tr style=\"text-align: right;\">\n",
       "      <th></th>\n",
       "      <th>user_id</th>\n",
       "      <th>signup_time</th>\n",
       "      <th>purchase_time</th>\n",
       "      <th>purchase_value</th>\n",
       "      <th>device_id</th>\n",
       "      <th>source</th>\n",
       "      <th>browser</th>\n",
       "      <th>sex</th>\n",
       "      <th>age</th>\n",
       "      <th>ip_address</th>\n",
       "      <th>class</th>\n",
       "      <th>ip_address_int</th>\n",
       "      <th>lower_bound_ip_address</th>\n",
       "      <th>upper_bound_ip_address</th>\n",
       "      <th>country</th>\n",
       "      <th>lower_bound_ip_address_int</th>\n",
       "      <th>upper_bound_ip_address_int</th>\n",
       "    </tr>\n",
       "  </thead>\n",
       "  <tbody>\n",
       "    <tr>\n",
       "      <th>0</th>\n",
       "      <td>22058</td>\n",
       "      <td>2015-02-24 22:55:49</td>\n",
       "      <td>2015-04-18 02:47:11</td>\n",
       "      <td>34</td>\n",
       "      <td>QVPSPJUOCKZAR</td>\n",
       "      <td>SEO</td>\n",
       "      <td>Chrome</td>\n",
       "      <td>M</td>\n",
       "      <td>39</td>\n",
       "      <td>7.327584e+08</td>\n",
       "      <td>0</td>\n",
       "      <td>732758368</td>\n",
       "      <td>7.298089e+08</td>\n",
       "      <td>734003199</td>\n",
       "      <td>Japan</td>\n",
       "      <td>729808896</td>\n",
       "      <td>734003199</td>\n",
       "    </tr>\n",
       "    <tr>\n",
       "      <th>1</th>\n",
       "      <td>333320</td>\n",
       "      <td>2015-06-07 20:39:50</td>\n",
       "      <td>2015-06-08 01:38:54</td>\n",
       "      <td>16</td>\n",
       "      <td>EOGFQPIZPYXFZ</td>\n",
       "      <td>Ads</td>\n",
       "      <td>Chrome</td>\n",
       "      <td>F</td>\n",
       "      <td>53</td>\n",
       "      <td>3.503114e+08</td>\n",
       "      <td>0</td>\n",
       "      <td>350311387</td>\n",
       "      <td>3.355443e+08</td>\n",
       "      <td>352321535</td>\n",
       "      <td>United States</td>\n",
       "      <td>335544320</td>\n",
       "      <td>352321535</td>\n",
       "    </tr>\n",
       "    <tr>\n",
       "      <th>2</th>\n",
       "      <td>221365</td>\n",
       "      <td>2015-07-21 07:09:52</td>\n",
       "      <td>2015-09-09 18:40:53</td>\n",
       "      <td>39</td>\n",
       "      <td>NAUITBZFJKHWW</td>\n",
       "      <td>Ads</td>\n",
       "      <td>Safari</td>\n",
       "      <td>M</td>\n",
       "      <td>45</td>\n",
       "      <td>4.155831e+08</td>\n",
       "      <td>0</td>\n",
       "      <td>415583117</td>\n",
       "      <td>4.154982e+08</td>\n",
       "      <td>415629311</td>\n",
       "      <td>United States</td>\n",
       "      <td>415498240</td>\n",
       "      <td>415629311</td>\n",
       "    </tr>\n",
       "    <tr>\n",
       "      <th>3</th>\n",
       "      <td>360585</td>\n",
       "      <td>2015-04-06 07:35:45</td>\n",
       "      <td>2015-05-25 17:21:14</td>\n",
       "      <td>27</td>\n",
       "      <td>HPUCUYLMJBYFW</td>\n",
       "      <td>Ads</td>\n",
       "      <td>Opera</td>\n",
       "      <td>M</td>\n",
       "      <td>34</td>\n",
       "      <td>1.692459e+09</td>\n",
       "      <td>0</td>\n",
       "      <td>1692458727</td>\n",
       "      <td>1.686110e+09</td>\n",
       "      <td>1694498815</td>\n",
       "      <td>United States</td>\n",
       "      <td>1686110208</td>\n",
       "      <td>1694498815</td>\n",
       "    </tr>\n",
       "    <tr>\n",
       "      <th>4</th>\n",
       "      <td>182338</td>\n",
       "      <td>2015-01-25 17:49:49</td>\n",
       "      <td>2015-03-23 23:05:42</td>\n",
       "      <td>62</td>\n",
       "      <td>NRFFPPHZYFUVC</td>\n",
       "      <td>Ads</td>\n",
       "      <td>IE</td>\n",
       "      <td>M</td>\n",
       "      <td>31</td>\n",
       "      <td>3.416747e+08</td>\n",
       "      <td>0</td>\n",
       "      <td>341674739</td>\n",
       "      <td>3.355443e+08</td>\n",
       "      <td>352321535</td>\n",
       "      <td>United States</td>\n",
       "      <td>335544320</td>\n",
       "      <td>352321535</td>\n",
       "    </tr>\n",
       "  </tbody>\n",
       "</table>\n",
       "</div>"
      ],
      "text/plain": [
       "   user_id         signup_time       purchase_time  purchase_value  \\\n",
       "0    22058 2015-02-24 22:55:49 2015-04-18 02:47:11              34   \n",
       "1   333320 2015-06-07 20:39:50 2015-06-08 01:38:54              16   \n",
       "2   221365 2015-07-21 07:09:52 2015-09-09 18:40:53              39   \n",
       "3   360585 2015-04-06 07:35:45 2015-05-25 17:21:14              27   \n",
       "4   182338 2015-01-25 17:49:49 2015-03-23 23:05:42              62   \n",
       "\n",
       "       device_id source browser sex  age    ip_address  class  ip_address_int  \\\n",
       "0  QVPSPJUOCKZAR    SEO  Chrome   M   39  7.327584e+08      0       732758368   \n",
       "1  EOGFQPIZPYXFZ    Ads  Chrome   F   53  3.503114e+08      0       350311387   \n",
       "2  NAUITBZFJKHWW    Ads  Safari   M   45  4.155831e+08      0       415583117   \n",
       "3  HPUCUYLMJBYFW    Ads   Opera   M   34  1.692459e+09      0      1692458727   \n",
       "4  NRFFPPHZYFUVC    Ads      IE   M   31  3.416747e+08      0       341674739   \n",
       "\n",
       "   lower_bound_ip_address  upper_bound_ip_address        country  \\\n",
       "0            7.298089e+08               734003199          Japan   \n",
       "1            3.355443e+08               352321535  United States   \n",
       "2            4.154982e+08               415629311  United States   \n",
       "3            1.686110e+09              1694498815  United States   \n",
       "4            3.355443e+08               352321535  United States   \n",
       "\n",
       "   lower_bound_ip_address_int  upper_bound_ip_address_int  \n",
       "0                   729808896                   734003199  \n",
       "1                   335544320                   352321535  \n",
       "2                   415498240                   415629311  \n",
       "3                  1686110208                  1694498815  \n",
       "4                   335544320                   352321535  "
      ]
     },
     "execution_count": 8,
     "metadata": {},
     "output_type": "execute_result"
    }
   ],
   "source": [
    "merged_data.head()"
   ]
  },
  {
   "cell_type": "markdown",
   "metadata": {},
   "source": [
    "# Feature engineering\n"
   ]
  },
  {
   "cell_type": "code",
   "execution_count": 9,
   "metadata": {},
   "outputs": [],
   "source": [
    "engineered_data = prep.feature_engineering(merged_data)"
   ]
  },
  {
   "cell_type": "markdown",
   "metadata": {},
   "source": [
    "# Normalization and Scaling\n"
   ]
  },
  {
   "cell_type": "code",
   "execution_count": 10,
   "metadata": {},
   "outputs": [],
   "source": [
    "columns_to_scale = ['purchase_value', 'signup_to_purchase']\n",
    "scaled_data = prep.normalize_and_scale(engineered_data, columns_to_scale)"
   ]
  },
  {
   "cell_type": "markdown",
   "metadata": {},
   "source": [
    "# Encode categorical features\n"
   ]
  },
  {
   "cell_type": "code",
   "execution_count": 11,
   "metadata": {},
   "outputs": [],
   "source": [
    "columns_to_encode = ['source', 'browser', 'sex']\n",
    "encoded_data = prep.encode_categorical(scaled_data, columns_to_encode)"
   ]
  },
  {
   "cell_type": "markdown",
   "metadata": {},
   "source": [
    "# View the processed data\n"
   ]
  },
  {
   "cell_type": "code",
   "execution_count": 12,
   "metadata": {},
   "outputs": [
    {
     "data": {
      "text/html": [
       "<div>\n",
       "<style scoped>\n",
       "    .dataframe tbody tr th:only-of-type {\n",
       "        vertical-align: middle;\n",
       "    }\n",
       "\n",
       "    .dataframe tbody tr th {\n",
       "        vertical-align: top;\n",
       "    }\n",
       "\n",
       "    .dataframe thead th {\n",
       "        text-align: right;\n",
       "    }\n",
       "</style>\n",
       "<table border=\"1\" class=\"dataframe\">\n",
       "  <thead>\n",
       "    <tr style=\"text-align: right;\">\n",
       "      <th></th>\n",
       "      <th>user_id</th>\n",
       "      <th>signup_time</th>\n",
       "      <th>purchase_time</th>\n",
       "      <th>purchase_value</th>\n",
       "      <th>device_id</th>\n",
       "      <th>source</th>\n",
       "      <th>browser</th>\n",
       "      <th>sex</th>\n",
       "      <th>age</th>\n",
       "      <th>ip_address</th>\n",
       "      <th>class</th>\n",
       "      <th>ip_address_int</th>\n",
       "      <th>lower_bound_ip_address</th>\n",
       "      <th>upper_bound_ip_address</th>\n",
       "      <th>country</th>\n",
       "      <th>lower_bound_ip_address_int</th>\n",
       "      <th>upper_bound_ip_address_int</th>\n",
       "      <th>signup_to_purchase</th>\n",
       "      <th>hour_of_day</th>\n",
       "      <th>day_of_week</th>\n",
       "    </tr>\n",
       "  </thead>\n",
       "  <tbody>\n",
       "    <tr>\n",
       "      <th>0</th>\n",
       "      <td>22058</td>\n",
       "      <td>2015-02-24 22:55:49</td>\n",
       "      <td>2015-04-18 02:47:11</td>\n",
       "      <td>-0.160648</td>\n",
       "      <td>QVPSPJUOCKZAR</td>\n",
       "      <td>2</td>\n",
       "      <td>0</td>\n",
       "      <td>1</td>\n",
       "      <td>39</td>\n",
       "      <td>7.327584e+08</td>\n",
       "      <td>0</td>\n",
       "      <td>732758368</td>\n",
       "      <td>7.298089e+08</td>\n",
       "      <td>734003199</td>\n",
       "      <td>Japan</td>\n",
       "      <td>729808896</td>\n",
       "      <td>734003199</td>\n",
       "      <td>-0.135970</td>\n",
       "      <td>2</td>\n",
       "      <td>5</td>\n",
       "    </tr>\n",
       "    <tr>\n",
       "      <th>1</th>\n",
       "      <td>333320</td>\n",
       "      <td>2015-06-07 20:39:50</td>\n",
       "      <td>2015-06-08 01:38:54</td>\n",
       "      <td>-1.139604</td>\n",
       "      <td>EOGFQPIZPYXFZ</td>\n",
       "      <td>0</td>\n",
       "      <td>0</td>\n",
       "      <td>0</td>\n",
       "      <td>53</td>\n",
       "      <td>3.503114e+08</td>\n",
       "      <td>0</td>\n",
       "      <td>350311387</td>\n",
       "      <td>3.355443e+08</td>\n",
       "      <td>352321535</td>\n",
       "      <td>United States</td>\n",
       "      <td>335544320</td>\n",
       "      <td>352321535</td>\n",
       "      <td>-1.572556</td>\n",
       "      <td>1</td>\n",
       "      <td>0</td>\n",
       "    </tr>\n",
       "    <tr>\n",
       "      <th>2</th>\n",
       "      <td>221365</td>\n",
       "      <td>2015-07-21 07:09:52</td>\n",
       "      <td>2015-09-09 18:40:53</td>\n",
       "      <td>0.111284</td>\n",
       "      <td>NAUITBZFJKHWW</td>\n",
       "      <td>0</td>\n",
       "      <td>4</td>\n",
       "      <td>1</td>\n",
       "      <td>45</td>\n",
       "      <td>4.155831e+08</td>\n",
       "      <td>0</td>\n",
       "      <td>415583117</td>\n",
       "      <td>4.154982e+08</td>\n",
       "      <td>415629311</td>\n",
       "      <td>United States</td>\n",
       "      <td>415498240</td>\n",
       "      <td>415629311</td>\n",
       "      <td>-0.182447</td>\n",
       "      <td>18</td>\n",
       "      <td>2</td>\n",
       "    </tr>\n",
       "    <tr>\n",
       "      <th>3</th>\n",
       "      <td>360585</td>\n",
       "      <td>2015-04-06 07:35:45</td>\n",
       "      <td>2015-05-25 17:21:14</td>\n",
       "      <td>-0.541354</td>\n",
       "      <td>HPUCUYLMJBYFW</td>\n",
       "      <td>0</td>\n",
       "      <td>3</td>\n",
       "      <td>1</td>\n",
       "      <td>34</td>\n",
       "      <td>1.692459e+09</td>\n",
       "      <td>0</td>\n",
       "      <td>1692458727</td>\n",
       "      <td>1.686110e+09</td>\n",
       "      <td>1694498815</td>\n",
       "      <td>United States</td>\n",
       "      <td>1686110208</td>\n",
       "      <td>1694498815</td>\n",
       "      <td>-0.212125</td>\n",
       "      <td>17</td>\n",
       "      <td>0</td>\n",
       "    </tr>\n",
       "    <tr>\n",
       "      <th>4</th>\n",
       "      <td>182338</td>\n",
       "      <td>2015-01-25 17:49:49</td>\n",
       "      <td>2015-03-23 23:05:42</td>\n",
       "      <td>1.362172</td>\n",
       "      <td>NRFFPPHZYFUVC</td>\n",
       "      <td>0</td>\n",
       "      <td>2</td>\n",
       "      <td>1</td>\n",
       "      <td>31</td>\n",
       "      <td>3.416747e+08</td>\n",
       "      <td>0</td>\n",
       "      <td>341674739</td>\n",
       "      <td>3.355443e+08</td>\n",
       "      <td>352321535</td>\n",
       "      <td>United States</td>\n",
       "      <td>335544320</td>\n",
       "      <td>352321535</td>\n",
       "      <td>0.003911</td>\n",
       "      <td>23</td>\n",
       "      <td>0</td>\n",
       "    </tr>\n",
       "  </tbody>\n",
       "</table>\n",
       "</div>"
      ],
      "text/plain": [
       "   user_id         signup_time       purchase_time  purchase_value  \\\n",
       "0    22058 2015-02-24 22:55:49 2015-04-18 02:47:11       -0.160648   \n",
       "1   333320 2015-06-07 20:39:50 2015-06-08 01:38:54       -1.139604   \n",
       "2   221365 2015-07-21 07:09:52 2015-09-09 18:40:53        0.111284   \n",
       "3   360585 2015-04-06 07:35:45 2015-05-25 17:21:14       -0.541354   \n",
       "4   182338 2015-01-25 17:49:49 2015-03-23 23:05:42        1.362172   \n",
       "\n",
       "       device_id  source  browser  sex  age    ip_address  class  \\\n",
       "0  QVPSPJUOCKZAR       2        0    1   39  7.327584e+08      0   \n",
       "1  EOGFQPIZPYXFZ       0        0    0   53  3.503114e+08      0   \n",
       "2  NAUITBZFJKHWW       0        4    1   45  4.155831e+08      0   \n",
       "3  HPUCUYLMJBYFW       0        3    1   34  1.692459e+09      0   \n",
       "4  NRFFPPHZYFUVC       0        2    1   31  3.416747e+08      0   \n",
       "\n",
       "   ip_address_int  lower_bound_ip_address  upper_bound_ip_address  \\\n",
       "0       732758368            7.298089e+08               734003199   \n",
       "1       350311387            3.355443e+08               352321535   \n",
       "2       415583117            4.154982e+08               415629311   \n",
       "3      1692458727            1.686110e+09              1694498815   \n",
       "4       341674739            3.355443e+08               352321535   \n",
       "\n",
       "         country  lower_bound_ip_address_int  upper_bound_ip_address_int  \\\n",
       "0          Japan                   729808896                   734003199   \n",
       "1  United States                   335544320                   352321535   \n",
       "2  United States                   415498240                   415629311   \n",
       "3  United States                  1686110208                  1694498815   \n",
       "4  United States                   335544320                   352321535   \n",
       "\n",
       "   signup_to_purchase  hour_of_day  day_of_week  \n",
       "0           -0.135970            2            5  \n",
       "1           -1.572556            1            0  \n",
       "2           -0.182447           18            2  \n",
       "3           -0.212125           17            0  \n",
       "4            0.003911           23            0  "
      ]
     },
     "execution_count": 12,
     "metadata": {},
     "output_type": "execute_result"
    }
   ],
   "source": [
    "encoded_data.head()"
   ]
  },
  {
   "cell_type": "code",
   "execution_count": 15,
   "metadata": {},
   "outputs": [
    {
     "name": "stdout",
     "output_type": "stream",
     "text": [
      "<class 'pandas.core.frame.DataFrame'>\n",
      "RangeIndex: 73036 entries, 0 to 73035\n",
      "Data columns (total 20 columns):\n",
      " #   Column                      Non-Null Count  Dtype         \n",
      "---  ------                      --------------  -----         \n",
      " 0   user_id                     73036 non-null  int64         \n",
      " 1   signup_time                 73036 non-null  datetime64[ns]\n",
      " 2   purchase_time               73036 non-null  datetime64[ns]\n",
      " 3   purchase_value              73036 non-null  float64       \n",
      " 4   device_id                   73036 non-null  object        \n",
      " 5   source                      73036 non-null  int32         \n",
      " 6   browser                     73036 non-null  int32         \n",
      " 7   sex                         73036 non-null  int32         \n",
      " 8   age                         73036 non-null  int64         \n",
      " 9   ip_address                  73036 non-null  float64       \n",
      " 10  class                       73036 non-null  int64         \n",
      " 11  ip_address_int              73036 non-null  int64         \n",
      " 12  lower_bound_ip_address      73036 non-null  float64       \n",
      " 13  upper_bound_ip_address      73036 non-null  int64         \n",
      " 14  country                     73036 non-null  object        \n",
      " 15  lower_bound_ip_address_int  73036 non-null  int64         \n",
      " 16  upper_bound_ip_address_int  73036 non-null  int64         \n",
      " 17  signup_to_purchase          73036 non-null  float64       \n",
      " 18  hour_of_day                 73036 non-null  int32         \n",
      " 19  day_of_week                 73036 non-null  int32         \n",
      "dtypes: datetime64[ns](2), float64(4), int32(5), int64(7), object(2)\n",
      "memory usage: 9.8+ MB\n"
     ]
    }
   ],
   "source": [
    "encoded_data.info()"
   ]
  },
  {
   "cell_type": "code",
   "execution_count": 17,
   "metadata": {},
   "outputs": [
    {
     "name": "stdout",
     "output_type": "stream",
     "text": [
      "Data saved to processed_fraud_data.csv\n"
     ]
    }
   ],
   "source": [
    "# # Save the processed data to a CSV file\n",
    "#prep.save_processed_data(encoded_data, 'processed_fraud_data.csv')"
   ]
  }
 ],
 "metadata": {
  "kernelspec": {
   "display_name": "venv",
   "language": "python",
   "name": "python3"
  },
  "language_info": {
   "codemirror_mode": {
    "name": "ipython",
    "version": 3
   },
   "file_extension": ".py",
   "mimetype": "text/x-python",
   "name": "python",
   "nbconvert_exporter": "python",
   "pygments_lexer": "ipython3",
   "version": "3.12.7"
  }
 },
 "nbformat": 4,
 "nbformat_minor": 2
}
